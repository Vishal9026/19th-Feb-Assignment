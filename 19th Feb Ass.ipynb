{
 "cells": [
  {
   "cell_type": "code",
   "execution_count": 1,
   "id": "9b28a14c-a812-4916-a384-cbe6bd604aeb",
   "metadata": {},
   "outputs": [],
   "source": [
    "# ANSWER-1)\n",
    "# Flask is a popular Python web framework, meaning it is a third-party Python library used for developing web applications.\n",
    "\n",
    "# Flask is a lightweight WSGI web application framework. It is designed to make getting started quick and easy with the ability to scale up to complex applications."
   ]
  },
  {
   "cell_type": "code",
   "execution_count": 4,
   "id": "d2a7784b-45cd-449b-ac3b-8f7e02302587",
   "metadata": {},
   "outputs": [],
   "source": [
    "# ANSWER-2)\n",
    "# from flask import Flask\n",
    "\n",
    "# app = Flask(__name__)\n",
    "\n",
    "# @app.route(\"/\")\n",
    "# def hello_world():\n",
    "#     return \"<h1>Hello World!!</h1>\"\n",
    "\n",
    "# if __name__==\"__main__\":\n",
    "#     app.run(host=\"0.0.0.0\")"
   ]
  },
  {
   "attachments": {
    "52816051-c6c9-43a0-970e-6ff69e8535a6.PNG": {
     "image/png": "[encoded data removed]"
    }
   },
   "cell_type": "markdown",
   "id": "3c796721-d4e7-4494-a178-4f7c58125282",
   "metadata": {},
   "source": [
    "![Hello.PNG](attachment:52816051-c6c9-43a0-970e-6ff69e8535a6.PNG)"
   ]
  },
  {
   "cell_type": "code",
   "execution_count": 2,
   "id": "7c556ae0-1202-4863-94ec-d4f42a3808d2",
   "metadata": {},
   "outputs": [],
   "source": [
    "# ANSWER-3)\n",
    "# App Routing means mapping the URLs to a specific function that will handle the logic for that URL. Modern web frameworks use more meaningful URLs to help users remember the URLs and make navigation simpler.\n",
    "\n",
    "# On the top of the function we want to map, wll add @app.route(\"</path>\"). In above example /(root) is mapped to hello_word function.\n"
   ]
  },
  {
   "cell_type": "code",
   "execution_count": 3,
   "id": "a7a98aed-9a49-4ead-b902-3a002396aea5",
   "metadata": {},
   "outputs": [],
   "source": [
    "# Answer-4)\n",
    "# from flask import Flask\n",
    "\n",
    "# app = Flask(__name__)\n",
    "\n",
    "# @app.route(\"/hello_world\")\n",
    "# def hello_world():\n",
    "#     return \"<h1>Hello World!!</h1>\"\n",
    "\n",
    "# @app.route(\"/welcome\")\n",
    "# def welcome():\n",
    "#     return \"Welcome to ABC Corporation\"\n",
    "\n",
    "# @app.route(\"/\")\n",
    "# def company():\n",
    "#     data = '''<p>Name: ABC Corporation <br>\n",
    "#     Location: India <br>\n",
    "#     Contact Detail: 999-999-9999<p>\n",
    "#     '''\n",
    "#     return data"
   ]
  },
  {
   "attachments": {
    "b75cc400-effb-41bc-bacd-cd850551995e.PNG": {
     "image/png": "[encoded data removed]"
    }
   },
   "cell_type": "markdown",
   "id": "995e7027-277f-4714-abe7-a188e7eb0a9e",
   "metadata": {},
   "source": [
    "![welcome.PNG](attachment:b75cc400-effb-41bc-bacd-cd850551995e.PNG)"
   ]
  },
  {
   "attachments": {
    "0106e5a4-7655-42f0-a3a8-50c18d7900c8.PNG": {
     "image/png": "[encoded data removed]"
    }
   },
   "cell_type": "markdown",
   "id": "4be002d0-79fe-4695-8724-82e335831d9e",
   "metadata": {},
   "source": [
    "![Company.PNG](attachment:0106e5a4-7655-42f0-a3a8-50c18d7900c8.PNG)"
   ]
  },
  {
   "cell_type": "code",
   "execution_count": null,
   "id": "d1eb08bd-3f15-42c4-8f36-2a7b6cf4d37d",
   "metadata": {},
   "outputs": [],
   "source": [
    "# ANSWER-5)\n",
    "The url_for() function is used to build a URL to the specific function dynamically. The first argument is the name of the specified function, and then we can pass any number of keyword argument corresponding to the variable part of the URL.\n",
    "\n",
    "In below example using url_for() to redirect /home to /\n",
    "from flask import *\n",
    "\n",
    "app = Flask(__name__)\n",
    "\n",
    "@app.route(\"/\")\n",
    "def company():\n",
    "    data = '''\n",
    "    <a href=\"{{ url_for('welcome') }}\"> Welcome Page </a>\n",
    "    <p>Name: ABC Corporation <br>\n",
    "    Location: India <br>\n",
    "    Contact Detail: 999-999-9999<br><p>\n",
    "    '''\n",
    "    return data\n",
    "\n",
    "\n",
    "@app.route('/home')\n",
    "def home():\n",
    "    return redirect(url_for('company')) \n",
    "\n",
    "if __name__==\"__main__\":\n",
    "    app.run(host=\"0.0.0.0\", port=7000, debug= True)\n"
   ]
  }
 ],
 "metadata": {
  "kernelspec": {
   "display_name": "Python 3 (ipykernel)",
   "language": "python",
   "name": "python3"
  },
  "language_info": {
   "codemirror_mode": {
    "name": "ipython",
    "version": 3
   },
   "file_extension": ".py",
   "mimetype": "text/x-python",
   "name": "python",
   "nbconvert_exporter": "python",
   "pygments_lexer": "ipython3",
   "version": "3.10.8"
  }
 },
 "nbformat": 4,
 "nbformat_minor": 5
}
